{
 "cells": [
  {
   "cell_type": "markdown",
   "metadata": {},
   "source": [
    "# Selected Random Forest Tree Features based on TF-IDF\n",
    "* updated by Nov 14 2018"
   ]
  },
  {
   "cell_type": "code",
   "execution_count": 42,
   "metadata": {},
   "outputs": [
    {
     "name": "stdout",
     "output_type": "stream",
     "text": [
      "Feature Importances Ranking.png\r\n",
      "LIBR559C Python Programming Code.ipynb\r\n",
      "LIBR559C Python Programming Code.py\r\n",
      "Read Files in Python.ipynb\r\n",
      "TF-IDF and Random Forest to Select the Features.ipynb\r\n",
      "Untitled.ipynb\r\n",
      "Untitled1.ipynb\r\n",
      "\u001b[34mcloud\u001b[m\u001b[m/\r\n",
      "cloud.jpeg.html\r\n",
      "feature importance ranking.png\r\n",
      "nlp&classify.ipynb\r\n",
      "\u001b[34moutput\u001b[m\u001b[m/\r\n",
      "shakespeare.txt\r\n",
      "small_dataset.txt\r\n",
      "small_labelset.txt\r\n",
      "small_prep.txt\r\n",
      "small_sav.txt\r\n",
      "small_sents.txt\r\n",
      "small_words.txt\r\n",
      "statistical analysis.ipynb\r\n",
      "summary_results.txt\r\n",
      "tokenized_txt.txt\r\n",
      "train_ground_truth_bias.txt\r\n",
      "w2v_vocabulary\r\n",
      "word2vec_org\r\n"
     ]
    }
   ],
   "source": [
    "ls"
   ]
  },
  {
   "cell_type": "code",
   "execution_count": 1,
   "metadata": {},
   "outputs": [],
   "source": [
    "#load package\n",
    "import pandas as pd\n",
    "import numpy as np\n",
    "import matplotlib.pyplot as plt\n",
    "import nltk\n",
    "from nltk.corpus import stopwords\n",
    "import string\n",
    "from sklearn.model_selection import cross_val_score\n",
    "import os"
   ]
  },
  {
   "cell_type": "code",
   "execution_count": 2,
   "metadata": {},
   "outputs": [],
   "source": [
    "# load data\n",
    "txt = []\n",
    "with open('tokenized_txt.txt', 'r') as f:\n",
    "    for line in f:\n",
    "        line=line.strip()\n",
    "        #doc= [x.strip() for x in line.split(',')]\n",
    "        txt.append(line)\n",
    "#remove whitespace characters like `\\n` at the end of each line"
   ]
  },
  {
   "cell_type": "code",
   "execution_count": 3,
   "metadata": {},
   "outputs": [
    {
     "data": {
      "text/plain": [
       "10000"
      ]
     },
     "execution_count": 3,
     "metadata": {},
     "output_type": "execute_result"
    }
   ],
   "source": [
    "len(txt)"
   ]
  },
  {
   "cell_type": "code",
   "execution_count": 4,
   "metadata": {},
   "outputs": [
    {
     "data": {
      "text/plain": [
       "['spam provides opportunity report technorati shows blogosphere continues double size every five months new trend emerged weblog spam spam comments become real plague anyone operating open weblog also fake spam weblogs called splogs technorati says constitute percent new blogs sites like google blogger com make easy anyone create weblog minute two unfortunately also easy smart programmer write script create fake blogs icerocket founder mark cuban complained blog posting sunday talking blogs posts talking could easily turn thousands blogs pinging millions posts would anyone thing started google whose relevancy algorithm includes consideration number sites linking document creating fake sites link revenue site unscrupulous operator theory manipulate google results allow software ignore potential spam links google proposed rel nofollow property links blog software providers quickly implemented however generally applied comments often open public blogs actually provides opportunity local community websites compete effectively global giants community website provide geographic context local conversation news organization monitor participate conversations includes keeping close eye new blogs blog postings requiring level personal responsibility part participants quick intervention spammers show']"
      ]
     },
     "execution_count": 4,
     "metadata": {},
     "output_type": "execute_result"
    }
   ],
   "source": [
    "txt[:1]"
   ]
  },
  {
   "cell_type": "code",
   "execution_count": 5,
   "metadata": {},
   "outputs": [],
   "source": [
    "#load the label data\n",
    "## read the label of the docmuments\n",
    "labels=[ ]\n",
    "with open ('../data/train_dev_label.txt', 'r') as f:\n",
    "        for i, line in enumerate (f):\n",
    "            line=line.replace('\\n', '')\n",
    "            labels.append(line)\n",
    "            if i == 9999: # remove this syntax when it is run in cluster\n",
    "                break"
   ]
  },
  {
   "cell_type": "code",
   "execution_count": 6,
   "metadata": {},
   "outputs": [
    {
     "data": {
      "text/html": [
       "<div>\n",
       "<style scoped>\n",
       "    .dataframe tbody tr th:only-of-type {\n",
       "        vertical-align: middle;\n",
       "    }\n",
       "\n",
       "    .dataframe tbody tr th {\n",
       "        vertical-align: top;\n",
       "    }\n",
       "\n",
       "    .dataframe thead th {\n",
       "        text-align: right;\n",
       "    }\n",
       "</style>\n",
       "<table border=\"1\" class=\"dataframe\">\n",
       "  <thead>\n",
       "    <tr style=\"text-align: right;\">\n",
       "      <th></th>\n",
       "      <th>0</th>\n",
       "    </tr>\n",
       "  </thead>\n",
       "  <tbody>\n",
       "    <tr>\n",
       "      <th>0</th>\n",
       "      <td>0</td>\n",
       "    </tr>\n",
       "    <tr>\n",
       "      <th>1</th>\n",
       "      <td>0</td>\n",
       "    </tr>\n",
       "    <tr>\n",
       "      <th>2</th>\n",
       "      <td>1</td>\n",
       "    </tr>\n",
       "    <tr>\n",
       "      <th>3</th>\n",
       "      <td>1</td>\n",
       "    </tr>\n",
       "    <tr>\n",
       "      <th>4</th>\n",
       "      <td>0</td>\n",
       "    </tr>\n",
       "  </tbody>\n",
       "</table>\n",
       "</div>"
      ],
      "text/plain": [
       "   0\n",
       "0  0\n",
       "1  0\n",
       "2  1\n",
       "3  1\n",
       "4  0"
      ]
     },
     "execution_count": 6,
     "metadata": {},
     "output_type": "execute_result"
    }
   ],
   "source": [
    "pd.DataFrame(labels).head()"
   ]
  },
  {
   "cell_type": "code",
   "execution_count": 14,
   "metadata": {},
   "outputs": [],
   "source": [
    "## load the multicategorical labels\n",
    "mlabels=[ ]\n",
    "with open ('train_ground_truth_bias.txt', 'r') as f:\n",
    "        for i, line in enumerate (f):\n",
    "            line=line.split()\n",
    "            line=line[-1]\n",
    "            #line=line.replace('\\t', '').replace('\\')\n",
    "            mlabels.append(line)\n",
    "            if i == 1000: # remove this syntax when it is run in cluster\n",
    "                break"
   ]
  },
  {
   "cell_type": "code",
   "execution_count": 15,
   "metadata": {},
   "outputs": [],
   "source": [
    "#find the number articles for each category\n",
    "m= pd.Series(mlabels)\n",
    "# encode the labels\n",
    "m_num, levels = pd.factorize(m)\n",
    "## form the multi-categorical label table\n",
    "mlabels_table=pd.DataFrame({'cat': mlabels, '5_labels': m_num})"
   ]
  },
  {
   "cell_type": "code",
   "execution_count": 16,
   "metadata": {},
   "outputs": [
    {
     "data": {
      "text/html": [
       "<div>\n",
       "<style scoped>\n",
       "    .dataframe tbody tr th:only-of-type {\n",
       "        vertical-align: middle;\n",
       "    }\n",
       "\n",
       "    .dataframe tbody tr th {\n",
       "        vertical-align: top;\n",
       "    }\n",
       "\n",
       "    .dataframe thead th {\n",
       "        text-align: right;\n",
       "    }\n",
       "</style>\n",
       "<table border=\"1\" class=\"dataframe\">\n",
       "  <thead>\n",
       "    <tr style=\"text-align: right;\">\n",
       "      <th>5_labels</th>\n",
       "      <th>0</th>\n",
       "      <th>1</th>\n",
       "      <th>2</th>\n",
       "      <th>3</th>\n",
       "      <th>4</th>\n",
       "    </tr>\n",
       "    <tr>\n",
       "      <th>cat</th>\n",
       "      <th></th>\n",
       "      <th></th>\n",
       "      <th></th>\n",
       "      <th></th>\n",
       "      <th></th>\n",
       "    </tr>\n",
       "  </thead>\n",
       "  <tbody>\n",
       "    <tr>\n",
       "      <th>least</th>\n",
       "      <td>0</td>\n",
       "      <td>0</td>\n",
       "      <td>164</td>\n",
       "      <td>0</td>\n",
       "      <td>0</td>\n",
       "    </tr>\n",
       "    <tr>\n",
       "      <th>left</th>\n",
       "      <td>0</td>\n",
       "      <td>0</td>\n",
       "      <td>0</td>\n",
       "      <td>257</td>\n",
       "      <td>0</td>\n",
       "    </tr>\n",
       "    <tr>\n",
       "      <th>left-center</th>\n",
       "      <td>0</td>\n",
       "      <td>0</td>\n",
       "      <td>0</td>\n",
       "      <td>0</td>\n",
       "      <td>179</td>\n",
       "    </tr>\n",
       "    <tr>\n",
       "      <th>right</th>\n",
       "      <td>314</td>\n",
       "      <td>0</td>\n",
       "      <td>0</td>\n",
       "      <td>0</td>\n",
       "      <td>0</td>\n",
       "    </tr>\n",
       "    <tr>\n",
       "      <th>right-center</th>\n",
       "      <td>0</td>\n",
       "      <td>87</td>\n",
       "      <td>0</td>\n",
       "      <td>0</td>\n",
       "      <td>0</td>\n",
       "    </tr>\n",
       "  </tbody>\n",
       "</table>\n",
       "</div>"
      ],
      "text/plain": [
       "5_labels        0   1    2    3    4\n",
       "cat                                 \n",
       "least           0   0  164    0    0\n",
       "left            0   0    0  257    0\n",
       "left-center     0   0    0    0  179\n",
       "right         314   0    0    0    0\n",
       "right-center    0  87    0    0    0"
      ]
     },
     "execution_count": 16,
     "metadata": {},
     "output_type": "execute_result"
    }
   ],
   "source": [
    "pd.crosstab(mlabels_table['cat'], mlabels_table['5_labels'])"
   ]
  },
  {
   "cell_type": "code",
   "execution_count": 17,
   "metadata": {},
   "outputs": [
    {
     "data": {
      "text/html": [
       "<div>\n",
       "<style scoped>\n",
       "    .dataframe tbody tr th:only-of-type {\n",
       "        vertical-align: middle;\n",
       "    }\n",
       "\n",
       "    .dataframe tbody tr th {\n",
       "        vertical-align: top;\n",
       "    }\n",
       "\n",
       "    .dataframe thead th {\n",
       "        text-align: right;\n",
       "    }\n",
       "</style>\n",
       "<table border=\"1\" class=\"dataframe\">\n",
       "  <thead>\n",
       "    <tr style=\"text-align: right;\">\n",
       "      <th></th>\n",
       "      <th>text</th>\n",
       "      <th>labels</th>\n",
       "      <th>cat</th>\n",
       "      <th>5_labels</th>\n",
       "    </tr>\n",
       "  </thead>\n",
       "  <tbody>\n",
       "    <tr>\n",
       "      <th>0</th>\n",
       "      <td>devos announced plans reexamine title ix texas...</td>\n",
       "      <td>1</td>\n",
       "      <td>right</td>\n",
       "      <td>0</td>\n",
       "    </tr>\n",
       "    <tr>\n",
       "      <th>1</th>\n",
       "      <td>university award trayvon martin posthumous deg...</td>\n",
       "      <td>1</td>\n",
       "      <td>right</td>\n",
       "      <td>0</td>\n",
       "    </tr>\n",
       "    <tr>\n",
       "      <th>2</th>\n",
       "      <td>texas state university suspends greek life stu...</td>\n",
       "      <td>0</td>\n",
       "      <td>right-center</td>\n",
       "      <td>1</td>\n",
       "    </tr>\n",
       "    <tr>\n",
       "      <th>3</th>\n",
       "      <td>red sox waste rodriguez outing loss orioles ba...</td>\n",
       "      <td>0</td>\n",
       "      <td>least</td>\n",
       "      <td>2</td>\n",
       "    </tr>\n",
       "    <tr>\n",
       "      <th>4</th>\n",
       "      <td>eve new jerusalem imaginings utopian utopian s...</td>\n",
       "      <td>1</td>\n",
       "      <td>left</td>\n",
       "      <td>3</td>\n",
       "    </tr>\n",
       "  </tbody>\n",
       "</table>\n",
       "</div>"
      ],
      "text/plain": [
       "                                                text labels           cat  \\\n",
       "0  devos announced plans reexamine title ix texas...      1         right   \n",
       "1  university award trayvon martin posthumous deg...      1         right   \n",
       "2  texas state university suspends greek life stu...      0  right-center   \n",
       "3  red sox waste rodriguez outing loss orioles ba...      0         least   \n",
       "4  eve new jerusalem imaginings utopian utopian s...      1          left   \n",
       "\n",
       "   5_labels  \n",
       "0         0  \n",
       "1         0  \n",
       "2         1  \n",
       "3         2  \n",
       "4         3  "
      ]
     },
     "execution_count": 17,
     "metadata": {},
     "output_type": "execute_result"
    }
   ],
   "source": [
    "## combine dataset into data with label\n",
    "labels_table=pd.DataFrame(labels, columns=['labels'])\n",
    "txt_table=pd.DataFrame(txt, columns=['text'])\n",
    "doc=pd.concat([txt_table,labels_table, mlabels_table], axis=1)\n",
    "doc.head()"
   ]
  },
  {
   "cell_type": "code",
   "execution_count": null,
   "metadata": {},
   "outputs": [],
   "source": [
    "pd.crosstab(doc['labels'], doc['cat'], margins=True)"
   ]
  },
  {
   "cell_type": "code",
   "execution_count": 8,
   "metadata": {},
   "outputs": [],
   "source": [
    "X = txt\n",
    "y = np.array(labels)"
   ]
  },
  {
   "cell_type": "code",
   "execution_count": 9,
   "metadata": {},
   "outputs": [
    {
     "name": "stdout",
     "output_type": "stream",
     "text": [
      "94624\n",
      "(10000, 94624)\n"
     ]
    }
   ],
   "source": [
    "#word to vector in bag of word for random forest tree\n",
    "from sklearn.feature_extraction.text import CountVectorizer\n",
    "bow_transformer = CountVectorizer(analyzer = 'word',lowercase = True, stop_words = 'english', binary= True)\n",
    "bow_transformer = bow_transformer.fit(X) \n",
    "print(len(bow_transformer.vocabulary_))  # the number of features\n",
    "X_vec = bow_transformer.transform(txt)\n",
    "print(X_vec.shape)"
   ]
  },
  {
   "cell_type": "code",
   "execution_count": 10,
   "metadata": {},
   "outputs": [],
   "source": [
    "#a example of verctorizer\n",
    "X_25 = X[24] #the 25th news\n",
    "#print (X_25)\n",
    "bow_25 = bow_transformer.transform([X_25]) #show the BOW results\n",
    "#print(bow_25) #this is a one line, so that it only shows the \"first\" line "
   ]
  },
  {
   "cell_type": "code",
   "execution_count": 11,
   "metadata": {},
   "outputs": [
    {
     "name": "stdout",
     "output_type": "stream",
     "text": [
      "this word is: astana\n"
     ]
    }
   ],
   "source": [
    "#show the vector to word\n",
    "print ('this word is: ' + (bow_transformer.get_feature_names()[5204]))"
   ]
  },
  {
   "cell_type": "code",
   "execution_count": 12,
   "metadata": {},
   "outputs": [
    {
     "name": "stdout",
     "output_type": "stream",
     "text": [
      "0.7905015606015605\n"
     ]
    }
   ],
   "source": [
    "## Rewrite Random Forest Tree using Lambda Function for importance ranking \n",
    "#classify by Random Forest\n",
    "from sklearn.ensemble import RandomForestClassifier\n",
    "my_rdf = RandomForestClassifier(criterion= 'entropy',max_depth=55,n_estimators=260, max_features= 145) #max_depth is the depth of each\n",
    "#tree, n_estimator is the number of decision trees, max_feature is the number of candidate feature\n",
    "\n",
    "## train the dataset \n",
    "my_rdf.fit(X_vec, y)#training\n",
    "scores = np.mean(cross_val_score(my_rdf, X_vec, y, cv=10))#10 folder cross-validation (mean)\n",
    "print (scores)  # obtain the average accuracy score\n",
    "\n",
    "importance = my_rdf.feature_importances_  #get importance ranking\n",
    "importance_ind = [] #containers for ranking information\n",
    "for i in range(importance.shape[0]):\n",
    "    row = []\n",
    "    row.append(i)\n",
    "    imp = importance[i]\n",
    "    row.append(imp)\n",
    "    importance_ind.append(row)\n",
    "## sort the importance using lambda function\n",
    "importance_sort=(sorted(importance_ind, key=lambda x: x[1], reverse=True))\n",
    "importance_sort=np.array(importance_sort)\n",
    "#print(importance_sort2) #importance_sort is the importance ranking list. in each row, first number\n",
    "#is the index of features, and second number is the importance value.\n",
    "#os.system('say \"program done\"') # index is the position index , value is the weights"
   ]
  },
  {
   "cell_type": "code",
   "execution_count": 13,
   "metadata": {
    "scrolled": true
   },
   "outputs": [],
   "source": [
    "#show the 1000 most important words\n",
    "from wordcloud import WordCloud, STOPWORDS, ImageColorGenerator\n",
    "from PIL import Image\n",
    "from os import path\n",
    "import matplotlib.pyplot as plt\n",
    "wordimpsort = []   ## WE USE THIS LIST LATER \n",
    "wordcloud_imp_dct = {}\n",
    "for i in range(1000):\n",
    "    ind = importance_sort[i,0]\n",
    "    word = bow_transformer.get_feature_names()[int(ind)]\n",
    "    wordimpsort.append(word)\n",
    "    wordcloud_imp_dct[str(word)] = float(importance_sort[i,1])\n",
    "#print( wordimpsort)"
   ]
  },
  {
   "cell_type": "code",
   "execution_count": 15,
   "metadata": {},
   "outputs": [],
   "source": [
    "#draw a word cloud\n",
    "from wordcloud import WordCloud, STOPWORDS, ImageColorGenerator\n",
    "from PIL import Image\n",
    "from os import path\n",
    "import matplotlib.pyplot as plt"
   ]
  },
  {
   "cell_type": "code",
   "execution_count": 16,
   "metadata": {},
   "outputs": [
    {
     "data": {
      "image/png": "[encoded data removed]",
      "text/plain": [
       "<Figure size 432x288 with 1 Axes>"
      ]
     },
     "metadata": {
      "needs_background": "light"
     },
     "output_type": "display_data"
    },
    {
     "data": {
      "text/plain": [
       "<Figure size 1008x1296 with 0 Axes>"
      ]
     },
     "metadata": {},
     "output_type": "display_data"
    }
   ],
   "source": [
    "### WordCloud of Importance Ranking from Random Forest\n",
    "d = path.dirname(\"./\")\n",
    "qua_mask = np.array(Image.open(path.join(d, \"Holmes_silhouette.png\")))\n",
    "wordcloud = WordCloud(background_color=\"white\",prefer_horizontal=2,  max_words=500, mask=qua_mask)\n",
    "wordcloud.generate_from_frequencies(wordcloud_imp_dct)\n",
    "wordcloud.to_file(path.join(d, \"hyperpartisan_news.png\"))\n",
    "plt.imshow(wordcloud, interpolation='bilinear')\n",
    "plt.axis(\"off\")\n",
    "plt.show()\n",
    "\n",
    "## set the figure size\n",
    "fig = plt.figure()\n",
    "fig.set_figwidth(14)\n",
    "fig.set_figheight(18)"
   ]
  },
  {
   "cell_type": "code",
   "execution_count": 17,
   "metadata": {},
   "outputs": [],
   "source": [
    "#split reviews into 2 sets, prepare for TF-IDF\n",
    "from __future__ import division, unicode_literals \n",
    "from sklearn.feature_extraction.text import TfidfTransformer  \n",
    "from sklearn.feature_extraction.text import CountVectorizer  \n",
    "import os"
   ]
  },
  {
   "cell_type": "code",
   "execution_count": 18,
   "metadata": {},
   "outputs": [
    {
     "data": {
      "text/html": [
       "<div>\n",
       "<style scoped>\n",
       "    .dataframe tbody tr th:only-of-type {\n",
       "        vertical-align: middle;\n",
       "    }\n",
       "\n",
       "    .dataframe tbody tr th {\n",
       "        vertical-align: top;\n",
       "    }\n",
       "\n",
       "    .dataframe thead th {\n",
       "        text-align: right;\n",
       "    }\n",
       "</style>\n",
       "<table border=\"1\" class=\"dataframe\">\n",
       "  <thead>\n",
       "    <tr style=\"text-align: right;\">\n",
       "      <th></th>\n",
       "      <th>text</th>\n",
       "      <th>labels</th>\n",
       "    </tr>\n",
       "  </thead>\n",
       "  <tbody>\n",
       "    <tr>\n",
       "      <th>0</th>\n",
       "      <td>spam provides opportunity report technorati sh...</td>\n",
       "      <td>0</td>\n",
       "    </tr>\n",
       "    <tr>\n",
       "      <th>1</th>\n",
       "      <td>reports republicans give agree temporary unemp...</td>\n",
       "      <td>0</td>\n",
       "    </tr>\n",
       "    <tr>\n",
       "      <th>2</th>\n",
       "      <td>gop head senate russia probe still say moscow ...</td>\n",
       "      <td>1</td>\n",
       "    </tr>\n",
       "    <tr>\n",
       "      <th>3</th>\n",
       "      <td>rules saudi arabia madawi al rasheed visiting ...</td>\n",
       "      <td>1</td>\n",
       "    </tr>\n",
       "    <tr>\n",
       "      <th>4</th>\n",
       "      <td>winning numbers drawn palmetto cash game colum...</td>\n",
       "      <td>0</td>\n",
       "    </tr>\n",
       "  </tbody>\n",
       "</table>\n",
       "</div>"
      ],
      "text/plain": [
       "                                                text labels\n",
       "0  spam provides opportunity report technorati sh...      0\n",
       "1  reports republicans give agree temporary unemp...      0\n",
       "2  gop head senate russia probe still say moscow ...      1\n",
       "3  rules saudi arabia madawi al rasheed visiting ...      1\n",
       "4  winning numbers drawn palmetto cash game colum...      0"
      ]
     },
     "execution_count": 18,
     "metadata": {},
     "output_type": "execute_result"
    }
   ],
   "source": [
    "doc.head()"
   ]
  },
  {
   "cell_type": "code",
   "execution_count": 19,
   "metadata": {},
   "outputs": [
    {
     "name": "stdout",
     "output_type": "stream",
     "text": [
      "14048982 15026906\n",
      "gop head senate russia probe still say moscow trying help trump senate intelligence committee chairman richard burr right vice chairman mark warnerron sachs cnp via zuma sen richard burr r n c chairman senate intelligence committee walking thin line comes discussing panel investigation russian meddling election news conference wednesday burr described committee probe thorough nonpartisan referred moscow assault election serious urged government wide effort prevent similar interference upcoming \n",
      "spam provides opportunity report technorati shows blogosphere continues double size every five months new trend emerged weblog spam spam comments become real plague anyone operating open weblog also fake spam weblogs called splogs technorati says constitute percent new blogs sites like google blogger com make easy anyone create weblog minute two unfortunately also easy smart programmer write script create fake blogs icerocket founder mark cuban complained blog posting sunday talking blogs posts\n"
     ]
    }
   ],
   "source": [
    "## Split the dataset into two sets\n",
    "news_text = doc.loc[:,['labels','text']]\n",
    "corpus=[]\n",
    "label_1 = ''\n",
    "label_0 = ''\n",
    "for i, item in news_text.iterrows():\n",
    "    item_dict = item.to_dict()\n",
    "    #print item_dict[\"rating\"]\n",
    "    if int(item_dict[\"labels\"]) == 0:\n",
    "        label_0 =label_0 + ' ' + item_dict[\"text\"]\n",
    "    if int(item_dict[\"labels\"]) == 1:\n",
    "        label_1 =label_1 + ' '+ item_dict[\"text\"]\n",
    "    \n",
    "print (len(label_0),len(label_1))\n",
    "print (label_1[1:500], label_0[1:500], sep='\\n')"
   ]
  },
  {
   "cell_type": "code",
   "execution_count": 20,
   "metadata": {
    "scrolled": true
   },
   "outputs": [
    {
     "name": "stdout",
     "output_type": "stream",
     "text": [
      "2\n"
     ]
    },
    {
     "data": {
      "text/plain": [
       "32512"
      ]
     },
     "execution_count": 20,
     "metadata": {},
     "output_type": "execute_result"
    }
   ],
   "source": [
    "## append the dataset into one set\n",
    "corpus.append(label_0)\n",
    "corpus.append(label_1)\n",
    "print (len(corpus))\n",
    "os.system('say \"program done\"')"
   ]
  },
  {
   "cell_type": "code",
   "execution_count": 21,
   "metadata": {},
   "outputs": [
    {
     "name": "stdout",
     "output_type": "stream",
     "text": [
      "(2, 94624)\n"
     ]
    }
   ],
   "source": [
    "#calculate TF-IDF with RF\n",
    "transformer=TfidfTransformer(smooth_idf = True, sublinear_tf = True)\n",
    "tfidf=transformer.fit_transform(bow_transformer.fit_transform(corpus))\n",
    "weight=tfidf.toarray()\n",
    "print (weight.shape)\n"
   ]
  },
  {
   "cell_type": "code",
   "execution_count": 22,
   "metadata": {},
   "outputs": [
    {
     "name": "stdout",
     "output_type": "stream",
     "text": [
      "(3, 500)\n"
     ]
    }
   ],
   "source": [
    "#rank TF-IDF with RF\n",
    "weight_sls = np.zeros(shape=(2,)) \n",
    "weight_index = np.zeros(shape=(1,))\n",
    "for i in range(500):\n",
    "    ind = importance_sort[i,0]\n",
    "    weight_index = np.column_stack((weight_index,ind)) # random forest tree indices put into the empty container\n",
    "    weight_sls = np.column_stack((weight_sls, weight[:,int(ind)])) # use the index in random forest #\n",
    "                                                                    #to otain the values from tf-idf wegihts\n",
    "     #w = weight[:,int(ind)]\n",
    "weight_sls = np.concatenate((weight_sls, weight_index)) ## weight + position index\n",
    "weight_sls = np.delete(weight_sls,0,axis=1)\n",
    "print (weight_sls.shape)"
   ]
  },
  {
   "cell_type": "code",
   "execution_count": 23,
   "metadata": {},
   "outputs": [],
   "source": [
    "dct = {}\n",
    "for i in range(weight_sls.shape[0]-1):\n",
    "    dct['weight_label_%s' % i] = []\n",
    "    \n",
    "for i in range(weight_sls.shape[0]-1):  \n",
    "    for j in range(weight_sls.shape[1]):\n",
    "        row = []\n",
    "        row.append(int(weight_sls[2,j]))\n",
    "        row.append(weight_sls[i,j])\n",
    "        \n",
    "        dct['weight_label_%s' % i].append(row)\n",
    "label_0_lt = dct['weight_label_0']\n",
    "label_1_lt = dct['weight_label_1']\n",
    "label_0_ar = np.array(label_0_lt)\n",
    "label_1_ar = np.array(label_1_lt)"
   ]
  },
  {
   "cell_type": "code",
   "execution_count": 24,
   "metadata": {},
   "outputs": [
    {
     "name": "stdout",
     "output_type": "stream",
     "text": [
      "done\n"
     ]
    }
   ],
   "source": [
    "idex0=np.lexsort([-1*label_0_ar[:,1]])\n",
    "label_0_sort=label_0_ar[idex0,:]\n",
    "\n",
    "idex1=np.lexsort([-1*label_1_ar[:,1]])\n",
    "label_1_sort=label_1_ar[idex1,:]\n",
    "print ('done')"
   ]
  },
  {
   "cell_type": "markdown",
   "metadata": {},
   "source": [
    "# Display Word Cloud for Each Dataset "
   ]
  },
  {
   "cell_type": "code",
   "execution_count": 25,
   "metadata": {},
   "outputs": [
    {
     "name": "stdout",
     "output_type": "stream",
     "text": [
      "['unm', 'rancho', 'apos', 'powerball', 'bernalillo', 'reading', 'continue', 'ap', 'albuquerque', 'window']\n"
     ]
    }
   ],
   "source": [
    "#Datat for non-partisan news\n",
    "wordcloud_dct_0 = {}\n",
    "wordsort_0 = []\n",
    "for i in range(500):\n",
    "    ind = label_0_sort[i,0]\n",
    "    word = bow_transformer.get_feature_names()[int(ind)]\n",
    "    wordsort_0.append(word)\n",
    "    wordcloud_dct_0[str(word)] = float(label_0_sort[i,1])\n",
    "print(wordsort_0[:10])"
   ]
  },
  {
   "cell_type": "code",
   "execution_count": 26,
   "metadata": {},
   "outputs": [
    {
     "name": "stdout",
     "output_type": "stream",
     "text": [
      "['reading', 'continue', 'ap', 'albuquerque', 'window', 'motley', 'globalpost', 'opens', 'fool', 'click']\n"
     ]
    }
   ],
   "source": [
    "#Datat for partisan news\n",
    "wordcloud_dct_1 = {}\n",
    "wordsort_1 = []\n",
    "for i in range(500):\n",
    "    ind = label_1_sort[i,0]\n",
    "    word = bow_transformer.get_feature_names()[int(ind)]\n",
    "    wordsort_1.append(word)\n",
    "    wordcloud_dct_1[str(word)] = float(label_1_sort[i,1])\n",
    "print(wordsort_1[:10])"
   ]
  },
  {
   "cell_type": "code",
   "execution_count": 27,
   "metadata": {},
   "outputs": [
    {
     "data": {
      "image/png": "[encoded data removed]",
      "text/plain": [
       "<Figure size 432x288 with 1 Axes>"
      ]
     },
     "metadata": {
      "needs_background": "light"
     },
     "output_type": "display_data"
    },
    {
     "data": {
      "text/plain": [
       "<Figure size 1008x1296 with 0 Axes>"
      ]
     },
     "metadata": {},
     "output_type": "display_data"
    }
   ],
   "source": [
    "### WordCloud for non-partisan news \n",
    "d = path.dirname(\"./\")\n",
    "qua_mask = np.array(Image.open(path.join(d, \"angel.png\")))\n",
    "wordcloud = WordCloud(background_color=\"white\",prefer_horizontal=2,  max_words=500, mask=qua_mask)\n",
    "wordcloud.generate_from_frequencies(wordcloud_dct_0)\n",
    "wordcloud.to_file(path.join(d, \"label_0_news.png\"))\n",
    "plt.imshow(wordcloud, interpolation='bilinear')\n",
    "plt.axis(\"off\")\n",
    "plt.show()\n",
    "\n",
    "## set the figure size\n",
    "fig = plt.figure()\n",
    "fig.set_figwidth(14)\n",
    "fig.set_figheight(18)"
   ]
  },
  {
   "cell_type": "code",
   "execution_count": 29,
   "metadata": {},
   "outputs": [
    {
     "data": {
      "image/png": "[encoded data removed]",
      "text/plain": [
       "<Figure size 432x288 with 1 Axes>"
      ]
     },
     "metadata": {
      "needs_background": "light"
     },
     "output_type": "display_data"
    },
    {
     "data": {
      "text/plain": [
       "<Figure size 1008x1296 with 0 Axes>"
      ]
     },
     "metadata": {},
     "output_type": "display_data"
    }
   ],
   "source": [
    "### WordCloud for partisan news \n",
    "d = path.dirname(\"./\")\n",
    "qua_mask = np.array(Image.open(path.join(d, \"trump_side.png\")))\n",
    "wordcloud = WordCloud(background_color=\"white\",prefer_horizontal=2,  max_words=500, mask=qua_mask)\n",
    "wordcloud.generate_from_frequencies(wordcloud_dct_1)\n",
    "wordcloud.to_file(path.join(d, \"label_1_news.png\"))\n",
    "plt.imshow(wordcloud, interpolation='bilinear')\n",
    "plt.axis(\"off\")\n",
    "plt.show()\n",
    "\n",
    "## set the figure size\n",
    "fig = plt.figure()\n",
    "fig.set_figwidth(14)\n",
    "fig.set_figheight(18)"
   ]
  },
  {
   "cell_type": "markdown",
   "metadata": {},
   "source": [
    "# The following codes are achieved"
   ]
  },
  {
   "cell_type": "raw",
   "metadata": {},
   "source": [
    "## The code here is depreciated \n",
    "#classify by Random Forest\n",
    "from sklearn.ensemble import RandomForestClassifier\n",
    "my_rdf = RandomForestClassifier(criterion= 'entropy',max_depth=55,n_estimators=260, max_features= 145) #max_depth is the depth of each\n",
    "#tree, n_estimator is the number of decision trees, max_feature is the number of candidate feature\n",
    "my_rdf.fit(X_vec, y)#training\n",
    "scores = np.mean(cross_val_score(my_rdf, X_vec, y, cv=10))#10 folder cross-validation (mean)\n",
    "print (scores)\n",
    "importance = my_rdf.feature_importances_  #get importance ranking\n",
    "\n",
    "importance_ind = [] #store ranking list\n",
    "for i in range(importance.shape[0]):\n",
    "    row = []\n",
    "    row.append(i)\n",
    "    imp = importance[i]\n",
    "    row.append(imp)\n",
    "    importance_ind.append(row)\n",
    "importance2 = np.array(importance_ind) ## lambda\n",
    "#print importance2\n",
    "idex=np.lexsort([-1*importance2[:,1]])\n",
    "importance_sort=importance2[idex,:]\n",
    "print(importance_sort.shape,importance_sort) #importance_sort is the importance ranking list. in each row, first number\n",
    "#is the index of features, and second number is the importance value.\n",
    "\n",
    "os.system('say \"program done\"') # index is the position index , value is the weights"
   ]
  }
 ],
 "metadata": {
  "kernelspec": {
   "display_name": "Python 3",
   "language": "python",
   "name": "python3"
  },
  "language_info": {
   "codemirror_mode": {
    "name": "ipython",
    "version": 3
   },
   "file_extension": ".py",
   "mimetype": "text/x-python",
   "name": "python",
   "nbconvert_exporter": "python",
   "pygments_lexer": "ipython3",
   "version": "3.6.5"
  }
 },
 "nbformat": 4,
 "nbformat_minor": 1
}
